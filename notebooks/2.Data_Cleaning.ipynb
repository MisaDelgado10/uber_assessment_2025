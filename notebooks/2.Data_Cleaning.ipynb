{
 "cells": [
  {
   "cell_type": "code",
   "execution_count": 16,
   "metadata": {},
   "outputs": [
    {
     "name": "stdout",
     "output_type": "stream",
     "text": [
      "Requirement already satisfied: pandas in /opt/anaconda3/envs/dev/lib/python3.9/site-packages (2.2.3)\n",
      "Requirement already satisfied: numpy>=1.22.4 in /opt/anaconda3/envs/dev/lib/python3.9/site-packages (from pandas) (2.0.2)\n",
      "Requirement already satisfied: python-dateutil>=2.8.2 in /opt/anaconda3/envs/dev/lib/python3.9/site-packages (from pandas) (2.9.0.post0)\n",
      "Requirement already satisfied: pytz>=2020.1 in /opt/anaconda3/envs/dev/lib/python3.9/site-packages (from pandas) (2025.2)\n",
      "Requirement already satisfied: tzdata>=2022.7 in /opt/anaconda3/envs/dev/lib/python3.9/site-packages (from pandas) (2025.2)\n",
      "Requirement already satisfied: six>=1.5 in /opt/anaconda3/envs/dev/lib/python3.9/site-packages (from python-dateutil>=2.8.2->pandas) (1.17.0)\n"
     ]
    }
   ],
   "source": [
    "!pip install pandas"
   ]
  },
  {
   "cell_type": "code",
   "execution_count": 31,
   "metadata": {},
   "outputs": [
    {
     "name": "stdout",
     "output_type": "stream",
     "text": [
      "Collecting pyarrow\n",
      "  Downloading pyarrow-20.0.0-cp39-cp39-macosx_12_0_arm64.whl.metadata (3.3 kB)\n",
      "Downloading pyarrow-20.0.0-cp39-cp39-macosx_12_0_arm64.whl (30.8 MB)\n",
      "\u001b[2K   \u001b[90m━━━━━━━━━━━━━━━━━━━━━━━━━━━━━━━━━━━━━━━━\u001b[0m \u001b[32m30.8/30.8 MB\u001b[0m \u001b[31m10.1 MB/s\u001b[0m eta \u001b[36m0:00:00\u001b[0m00:01\u001b[0m00:01\u001b[0m\n",
      "\u001b[?25hInstalling collected packages: pyarrow\n",
      "Successfully installed pyarrow-20.0.0\n"
     ]
    }
   ],
   "source": [
    "!pip install pyarrow"
   ]
  },
  {
   "cell_type": "code",
   "execution_count": 17,
   "metadata": {},
   "outputs": [],
   "source": [
    "import pandas as pd"
   ]
  },
  {
   "cell_type": "code",
   "execution_count": 18,
   "metadata": {},
   "outputs": [
    {
     "data": {
      "text/plain": [
       "(1000000, 15)"
      ]
     },
     "execution_count": 18,
     "metadata": {},
     "output_type": "execute_result"
    }
   ],
   "source": [
    "df = pd.read_csv(\"../data/raw/BC_A&A_with_ATD.csv\")\n",
    "df.shape"
   ]
  },
  {
   "cell_type": "markdown",
   "metadata": {},
   "source": [
    "# Dropping null rows"
   ]
  },
  {
   "cell_type": "code",
   "execution_count": 19,
   "metadata": {},
   "outputs": [
    {
     "data": {
      "text/plain": [
       "(984241, 15)"
      ]
     },
     "execution_count": 19,
     "metadata": {},
     "output_type": "execute_result"
    }
   ],
   "source": [
    "df_cleaned = df.replace('\\\\N', pd.NA).dropna()\n",
    "df_cleaned.shape"
   ]
  },
  {
   "cell_type": "markdown",
   "metadata": {},
   "source": [
    "# Changing data types"
   ]
  },
  {
   "cell_type": "code",
   "execution_count": 20,
   "metadata": {},
   "outputs": [],
   "source": [
    "import pandas as pd\n",
    "import numpy as np\n",
    "\n",
    "df_converted = df_cleaned.copy()\n",
    "\n",
    "# Convert \"\\N\" strings to actual NaN values\n",
    "df_converted.replace(r'\\\\N', np.nan, regex=True, inplace=True)\n",
    "\n",
    "# Convert timestamp columns to datetime\n",
    "timestamp_cols = [\n",
    "    \"restaurant_offered_timestamp_utc\",\n",
    "    \"order_final_state_timestamp_local\",\n",
    "    \"eater_request_timestamp_local\"\n",
    "]\n",
    "for col in timestamp_cols:\n",
    "    df_converted[col] = pd.to_datetime(df_converted[col], errors='coerce')  # Invalid formats become NaT\n",
    "\n",
    "# Convert distance columns to float\n",
    "distance_cols = [\n",
    "    \"pickup_distance\",\n",
    "    \"dropoff_distance\"\n",
    "]\n",
    "for col in distance_cols:\n",
    "    df_converted[col] = pd.to_numeric(df_converted[col], errors='coerce')  # Invalid formats become NaN"
   ]
  },
  {
   "cell_type": "code",
   "execution_count": 21,
   "metadata": {},
   "outputs": [
    {
     "name": "stdout",
     "output_type": "stream",
     "text": [
      "<class 'pandas.core.frame.DataFrame'>\n",
      "Index: 984241 entries, 0 to 999999\n",
      "Data columns (total 15 columns):\n",
      " #   Column                             Non-Null Count   Dtype         \n",
      "---  ------                             --------------   -----         \n",
      " 0   region                             984241 non-null  object        \n",
      " 1   territory                          984241 non-null  object        \n",
      " 2   country_name                       984241 non-null  object        \n",
      " 3   workflow_uuid                      984241 non-null  object        \n",
      " 4   driver_uuid                        984241 non-null  object        \n",
      " 5   delivery_trip_uuid                 984241 non-null  object        \n",
      " 6   courier_flow                       984241 non-null  object        \n",
      " 7   restaurant_offered_timestamp_utc   984241 non-null  datetime64[ns]\n",
      " 8   order_final_state_timestamp_local  984241 non-null  datetime64[ns]\n",
      " 9   eater_request_timestamp_local      984241 non-null  datetime64[ns]\n",
      " 10  geo_archetype                      984241 non-null  object        \n",
      " 11  merchant_surface                   984241 non-null  object        \n",
      " 12  pickup_distance                    984241 non-null  float64       \n",
      " 13  dropoff_distance                   984241 non-null  float64       \n",
      " 14  ATD                                984241 non-null  float64       \n",
      "dtypes: datetime64[ns](3), float64(3), object(9)\n",
      "memory usage: 120.1+ MB\n"
     ]
    }
   ],
   "source": [
    "df_converted.info()"
   ]
  },
  {
   "cell_type": "markdown",
   "metadata": {},
   "source": [
    "# Converting dates to local time"
   ]
  },
  {
   "cell_type": "code",
   "execution_count": 22,
   "metadata": {},
   "outputs": [],
   "source": [
    "from datetime import datetime\n",
    "from zoneinfo import ZoneInfo  # Available in Python 3.9+\n",
    "\n",
    "# Example: assuming the column is datetime and named `restaurant_offered_timestamp_utc`\n",
    "df_converted['restaurant_offered_timestamp_local'] = df_converted['restaurant_offered_timestamp_utc'].dt.tz_localize('UTC').dt.tz_convert('America/Mexico_City')"
   ]
  },
  {
   "cell_type": "code",
   "execution_count": 23,
   "metadata": {},
   "outputs": [],
   "source": [
    "df_converted[\"restaurant_offered_timestamp_local\"] = pd.to_datetime(df_converted[\"restaurant_offered_timestamp_local\"]).dt.tz_localize(None)"
   ]
  },
  {
   "cell_type": "code",
   "execution_count": 24,
   "metadata": {},
   "outputs": [
    {
     "data": {
      "text/html": [
       "<div>\n",
       "<style scoped>\n",
       "    .dataframe tbody tr th:only-of-type {\n",
       "        vertical-align: middle;\n",
       "    }\n",
       "\n",
       "    .dataframe tbody tr th {\n",
       "        vertical-align: top;\n",
       "    }\n",
       "\n",
       "    .dataframe thead th {\n",
       "        text-align: right;\n",
       "    }\n",
       "</style>\n",
       "<table border=\"1\" class=\"dataframe\">\n",
       "  <thead>\n",
       "    <tr style=\"text-align: right;\">\n",
       "      <th></th>\n",
       "      <th>region</th>\n",
       "      <th>territory</th>\n",
       "      <th>country_name</th>\n",
       "      <th>workflow_uuid</th>\n",
       "      <th>driver_uuid</th>\n",
       "      <th>delivery_trip_uuid</th>\n",
       "      <th>courier_flow</th>\n",
       "      <th>restaurant_offered_timestamp_utc</th>\n",
       "      <th>order_final_state_timestamp_local</th>\n",
       "      <th>eater_request_timestamp_local</th>\n",
       "      <th>geo_archetype</th>\n",
       "      <th>merchant_surface</th>\n",
       "      <th>pickup_distance</th>\n",
       "      <th>dropoff_distance</th>\n",
       "      <th>ATD</th>\n",
       "      <th>restaurant_offered_timestamp_local</th>\n",
       "    </tr>\n",
       "  </thead>\n",
       "  <tbody>\n",
       "    <tr>\n",
       "      <th>0</th>\n",
       "      <td>Mexico</td>\n",
       "      <td>South East</td>\n",
       "      <td>Mexico</td>\n",
       "      <td>8c393c94-9282-41a6-a885-7a6e84b470d7</td>\n",
       "      <td>d16e401c-795d-4295-96c0-85ca08ad8c42</td>\n",
       "      <td>715f96aa-0a31-46f6-b856-6ea6f87affad</td>\n",
       "      <td>Motorbike</td>\n",
       "      <td>2025-04-06 19:35:50</td>\n",
       "      <td>2025-04-06 13:48:48</td>\n",
       "      <td>2025-04-06 13:35:50</td>\n",
       "      <td>Drive momentum</td>\n",
       "      <td>Tablet</td>\n",
       "      <td>0.643</td>\n",
       "      <td>1.651</td>\n",
       "      <td>12.966667</td>\n",
       "      <td>2025-04-06 13:35:50</td>\n",
       "    </tr>\n",
       "    <tr>\n",
       "      <th>1</th>\n",
       "      <td>Mexico</td>\n",
       "      <td>South East</td>\n",
       "      <td>Mexico</td>\n",
       "      <td>b156dd16-274f-46d1-ac6f-4c24ca43df69</td>\n",
       "      <td>06299354-23ec-4173-83dc-d6bd32a420e1</td>\n",
       "      <td>ac985454-0e6f-4695-a68b-755c60c2afd7</td>\n",
       "      <td>Motorbike</td>\n",
       "      <td>2025-04-11 22:30:56</td>\n",
       "      <td>2025-04-11 16:47:48</td>\n",
       "      <td>2025-04-11 16:30:56</td>\n",
       "      <td>Drive momentum</td>\n",
       "      <td>Tablet</td>\n",
       "      <td>0.812</td>\n",
       "      <td>1.733</td>\n",
       "      <td>16.866667</td>\n",
       "      <td>2025-04-11 16:30:56</td>\n",
       "    </tr>\n",
       "    <tr>\n",
       "      <th>2</th>\n",
       "      <td>Mexico</td>\n",
       "      <td>South East</td>\n",
       "      <td>Mexico</td>\n",
       "      <td>87a8081b-b735-4daf-8452-3943a9d9ca24</td>\n",
       "      <td>188214a6-3813-44d5-9694-0ae69dfdd7e5</td>\n",
       "      <td>14b274b9-924e-4da7-8803-69558a33559d</td>\n",
       "      <td>Motorbike</td>\n",
       "      <td>2025-04-06 23:15:05</td>\n",
       "      <td>2025-04-06 17:34:49</td>\n",
       "      <td>2025-04-06 17:15:05</td>\n",
       "      <td>Drive momentum</td>\n",
       "      <td>Tablet</td>\n",
       "      <td>1.966</td>\n",
       "      <td>1.605</td>\n",
       "      <td>19.733333</td>\n",
       "      <td>2025-04-06 17:15:05</td>\n",
       "    </tr>\n",
       "    <tr>\n",
       "      <th>3</th>\n",
       "      <td>Mexico</td>\n",
       "      <td>South East</td>\n",
       "      <td>Mexico</td>\n",
       "      <td>78f0e92c-fa45-4215-8c3f-703b8691b6eb</td>\n",
       "      <td>5c7cbb34-116b-4665-aaf3-7f02394c0ff8</td>\n",
       "      <td>ee4faf69-bfff-421a-a163-29dfa4156fc4</td>\n",
       "      <td>Motorbike</td>\n",
       "      <td>2025-04-19 02:38:58</td>\n",
       "      <td>2025-04-18 21:21:55</td>\n",
       "      <td>2025-04-18 20:38:58</td>\n",
       "      <td>Drive momentum</td>\n",
       "      <td>Tablet</td>\n",
       "      <td>3.010</td>\n",
       "      <td>4.771</td>\n",
       "      <td>42.950000</td>\n",
       "      <td>2025-04-18 20:38:58</td>\n",
       "    </tr>\n",
       "    <tr>\n",
       "      <th>4</th>\n",
       "      <td>Mexico</td>\n",
       "      <td>Central</td>\n",
       "      <td>Mexico</td>\n",
       "      <td>e0b2324b-f210-4e6b-82d1-979f9a208967</td>\n",
       "      <td>8b7a3bd8-9cf1-493e-9c64-303db8781045</td>\n",
       "      <td>7870b275-4541-4e09-8fe7-a47e7b506ce4</td>\n",
       "      <td>Motorbike</td>\n",
       "      <td>2025-03-03 03:33:40</td>\n",
       "      <td>2025-03-02 22:02:36</td>\n",
       "      <td>2025-03-02 21:33:40</td>\n",
       "      <td>Play offense</td>\n",
       "      <td>Tablet</td>\n",
       "      <td>0.746</td>\n",
       "      <td>4.370</td>\n",
       "      <td>28.933333</td>\n",
       "      <td>2025-03-02 21:33:40</td>\n",
       "    </tr>\n",
       "  </tbody>\n",
       "</table>\n",
       "</div>"
      ],
      "text/plain": [
       "   region   territory country_name                         workflow_uuid  \\\n",
       "0  Mexico  South East       Mexico  8c393c94-9282-41a6-a885-7a6e84b470d7   \n",
       "1  Mexico  South East       Mexico  b156dd16-274f-46d1-ac6f-4c24ca43df69   \n",
       "2  Mexico  South East       Mexico  87a8081b-b735-4daf-8452-3943a9d9ca24   \n",
       "3  Mexico  South East       Mexico  78f0e92c-fa45-4215-8c3f-703b8691b6eb   \n",
       "4  Mexico     Central       Mexico  e0b2324b-f210-4e6b-82d1-979f9a208967   \n",
       "\n",
       "                            driver_uuid                    delivery_trip_uuid  \\\n",
       "0  d16e401c-795d-4295-96c0-85ca08ad8c42  715f96aa-0a31-46f6-b856-6ea6f87affad   \n",
       "1  06299354-23ec-4173-83dc-d6bd32a420e1  ac985454-0e6f-4695-a68b-755c60c2afd7   \n",
       "2  188214a6-3813-44d5-9694-0ae69dfdd7e5  14b274b9-924e-4da7-8803-69558a33559d   \n",
       "3  5c7cbb34-116b-4665-aaf3-7f02394c0ff8  ee4faf69-bfff-421a-a163-29dfa4156fc4   \n",
       "4  8b7a3bd8-9cf1-493e-9c64-303db8781045  7870b275-4541-4e09-8fe7-a47e7b506ce4   \n",
       "\n",
       "  courier_flow restaurant_offered_timestamp_utc  \\\n",
       "0    Motorbike              2025-04-06 19:35:50   \n",
       "1    Motorbike              2025-04-11 22:30:56   \n",
       "2    Motorbike              2025-04-06 23:15:05   \n",
       "3    Motorbike              2025-04-19 02:38:58   \n",
       "4    Motorbike              2025-03-03 03:33:40   \n",
       "\n",
       "  order_final_state_timestamp_local eater_request_timestamp_local  \\\n",
       "0               2025-04-06 13:48:48           2025-04-06 13:35:50   \n",
       "1               2025-04-11 16:47:48           2025-04-11 16:30:56   \n",
       "2               2025-04-06 17:34:49           2025-04-06 17:15:05   \n",
       "3               2025-04-18 21:21:55           2025-04-18 20:38:58   \n",
       "4               2025-03-02 22:02:36           2025-03-02 21:33:40   \n",
       "\n",
       "    geo_archetype merchant_surface  pickup_distance  dropoff_distance  \\\n",
       "0  Drive momentum           Tablet            0.643             1.651   \n",
       "1  Drive momentum           Tablet            0.812             1.733   \n",
       "2  Drive momentum           Tablet            1.966             1.605   \n",
       "3  Drive momentum           Tablet            3.010             4.771   \n",
       "4    Play offense           Tablet            0.746             4.370   \n",
       "\n",
       "         ATD restaurant_offered_timestamp_local  \n",
       "0  12.966667                2025-04-06 13:35:50  \n",
       "1  16.866667                2025-04-11 16:30:56  \n",
       "2  19.733333                2025-04-06 17:15:05  \n",
       "3  42.950000                2025-04-18 20:38:58  \n",
       "4  28.933333                2025-03-02 21:33:40  "
      ]
     },
     "execution_count": 24,
     "metadata": {},
     "output_type": "execute_result"
    }
   ],
   "source": [
    "df_converted.head()"
   ]
  },
  {
   "cell_type": "code",
   "execution_count": 25,
   "metadata": {},
   "outputs": [],
   "source": [
    "df_converted = df_converted.drop('restaurant_offered_timestamp_utc', axis = 1)"
   ]
  },
  {
   "cell_type": "code",
   "execution_count": 26,
   "metadata": {},
   "outputs": [
    {
     "data": {
      "text/plain": [
       "(984241, 15)"
      ]
     },
     "execution_count": 26,
     "metadata": {},
     "output_type": "execute_result"
    }
   ],
   "source": [
    "df_converted.shape"
   ]
  },
  {
   "cell_type": "code",
   "execution_count": 27,
   "metadata": {},
   "outputs": [
    {
     "name": "stdout",
     "output_type": "stream",
     "text": [
      "<class 'pandas.core.frame.DataFrame'>\n",
      "Index: 984241 entries, 0 to 999999\n",
      "Data columns (total 15 columns):\n",
      " #   Column                              Non-Null Count   Dtype         \n",
      "---  ------                              --------------   -----         \n",
      " 0   region                              984241 non-null  object        \n",
      " 1   territory                           984241 non-null  object        \n",
      " 2   country_name                        984241 non-null  object        \n",
      " 3   workflow_uuid                       984241 non-null  object        \n",
      " 4   driver_uuid                         984241 non-null  object        \n",
      " 5   delivery_trip_uuid                  984241 non-null  object        \n",
      " 6   courier_flow                        984241 non-null  object        \n",
      " 7   order_final_state_timestamp_local   984241 non-null  datetime64[ns]\n",
      " 8   eater_request_timestamp_local       984241 non-null  datetime64[ns]\n",
      " 9   geo_archetype                       984241 non-null  object        \n",
      " 10  merchant_surface                    984241 non-null  object        \n",
      " 11  pickup_distance                     984241 non-null  float64       \n",
      " 12  dropoff_distance                    984241 non-null  float64       \n",
      " 13  ATD                                 984241 non-null  float64       \n",
      " 14  restaurant_offered_timestamp_local  984241 non-null  datetime64[ns]\n",
      "dtypes: datetime64[ns](3), float64(3), object(9)\n",
      "memory usage: 120.1+ MB\n"
     ]
    }
   ],
   "source": [
    "df_converted.info()"
   ]
  },
  {
   "cell_type": "code",
   "execution_count": 28,
   "metadata": {},
   "outputs": [],
   "source": [
    "# Saving interim processed data\n",
    "\n",
    "df_converted.to_csv('../data/interim/BC_A&A_with_ATD_interim.csv', index = False)"
   ]
  },
  {
   "cell_type": "code",
   "execution_count": 32,
   "metadata": {},
   "outputs": [],
   "source": [
    "df_converted.to_parquet('../data/interim/BC_A&A_with_ATD_interim.parquet', index = False)"
   ]
  },
  {
   "cell_type": "code",
   "execution_count": null,
   "metadata": {},
   "outputs": [],
   "source": []
  }
 ],
 "metadata": {
  "kernelspec": {
   "display_name": "dev",
   "language": "python",
   "name": "python3"
  },
  "language_info": {
   "codemirror_mode": {
    "name": "ipython",
    "version": 3
   },
   "file_extension": ".py",
   "mimetype": "text/x-python",
   "name": "python",
   "nbconvert_exporter": "python",
   "pygments_lexer": "ipython3",
   "version": "3.9.21"
  }
 },
 "nbformat": 4,
 "nbformat_minor": 2
}
